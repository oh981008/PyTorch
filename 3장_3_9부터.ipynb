{
  "nbformat": 4,
  "nbformat_minor": 0,
  "metadata": {
    "colab": {
      "provenance": [],
      "authorship_tag": "ABX9TyNCMsIOx7If9nxqJKVVzyVd",
      "include_colab_link": true
    },
    "kernelspec": {
      "name": "python3",
      "display_name": "Python 3"
    },
    "language_info": {
      "name": "python"
    },
    "accelerator": "GPU",
    "gpuClass": "standard"
  },
  "cells": [
    {
      "cell_type": "markdown",
      "metadata": {
        "id": "view-in-github",
        "colab_type": "text"
      },
      "source": [
        "<a href=\"https://colab.research.google.com/github/oh981008/PyTorch/blob/main/3%EC%9E%A5_3_9%EB%B6%80%ED%84%B0.ipynb\" target=\"_parent\"><img src=\"https://colab.research.google.com/assets/colab-badge.svg\" alt=\"Open In Colab\"/></a>"
      ]
    },
    {
      "cell_type": "code",
      "source": [
        "import torch\n",
        "points_gpu=torch.tensor([[4,1],[2,3],[5,6]],device='cuda')"
      ],
      "metadata": {
        "id": "mH5pHLTLovzk"
      },
      "execution_count": 1,
      "outputs": []
    },
    {
      "cell_type": "code",
      "source": [
        "points=torch.tensor([[4,1],[2,3],[5,6]])"
      ],
      "metadata": {
        "id": "NPg0TSd0pzKz"
      },
      "execution_count": 3,
      "outputs": []
    },
    {
      "cell_type": "code",
      "source": [
        "points=2*points #cpu에서 실행되는 곱셈\n",
        "points_gpu=2*points.to(device='cuda') #gpu에서 실행되는 곱셈"
      ],
      "metadata": {
        "id": "DH1F4txBoy-E"
      },
      "execution_count": 4,
      "outputs": []
    },
    {
      "cell_type": "code",
      "source": [
        "points_cpu=points_gpu.to(device='cpu')"
      ],
      "metadata": {
        "id": "r4W09OSSpv_c"
      },
      "execution_count": 5,
      "outputs": []
    },
    {
      "cell_type": "markdown",
      "source": [
        "### 3.10 넘파이 호환"
      ],
      "metadata": {
        "id": "MsVJNn4aq2YC"
      }
    },
    {
      "cell_type": "code",
      "source": [
        "points=torch.ones(3,4)\n",
        "points_np=points.numpy()\n",
        "points_np"
      ],
      "metadata": {
        "colab": {
          "base_uri": "https://localhost:8080/"
        },
        "id": "ovHoGLrdqoX2",
        "outputId": "d8839cea-1f3a-48cf-fbe9-6b35982fd538"
      },
      "execution_count": 6,
      "outputs": [
        {
          "output_type": "execute_result",
          "data": {
            "text/plain": [
              "array([[1., 1., 1., 1.],\n",
              "       [1., 1., 1., 1.],\n",
              "       [1., 1., 1., 1.]], dtype=float32)"
            ]
          },
          "metadata": {},
          "execution_count": 6
        }
      ]
    },
    {
      "cell_type": "code",
      "source": [
        "points=torch.from_numpy(points_np)"
      ],
      "metadata": {
        "id": "ECANzOrVrArK"
      },
      "execution_count": 7,
      "outputs": []
    },
    {
      "cell_type": "code",
      "source": [],
      "metadata": {
        "id": "3mbLnPK0rUA4"
      },
      "execution_count": null,
      "outputs": []
    }
  ]
}